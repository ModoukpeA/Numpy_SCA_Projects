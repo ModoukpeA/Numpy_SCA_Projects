{
 "cells": [
  {
   "cell_type": "markdown",
   "metadata": {},
   "source": [
    "# NumPy Practice"
   ]
  },
  {
   "cell_type": "raw",
   "metadata": {},
   "source": [
    "Exercise 1: Create a 5X2 integer array from a range between 100 to 200 such that the difference between each element is 10\n",
    "Expected Output:\n",
    "\n",
    "Creating 5X2 array using numpy.arange\n",
    "[[100 110]\n",
    " [120 130]\n",
    " [140 150]\n",
    " [160 170]\n",
    " [180 190]]\n"
   ]
  },
  {
   "cell_type": "code",
   "execution_count": 16,
   "metadata": {},
   "outputs": [
    {
     "name": "stdout",
     "output_type": "stream",
     "text": [
      "[[100 110]\n",
      " [120 130]\n",
      " [140 150]\n",
      " [160 170]\n",
      " [180 190]]\n",
      "(5, 2)\n"
     ]
    }
   ],
   "source": [
    "import numpy as np\n",
    "#my_array = np.array (5,2)\n",
    "#my_array = np.arange (100, 200, 10)\n",
    "my_array = np.array([np.arange (100, 120, 10),np.arange (120, 140, 10), np.arange (140, 160, 10),np.arange (160, 180, 10),np.arange (180, 200, 10)])\n",
    "print (my_array)\n",
    "print (my_array.shape)"
   ]
  },
  {
   "cell_type": "raw",
   "metadata": {},
   "source": [
    "Exercise 2: Following is the provided numPy array. return array of items in the third column from all rows\n",
    "import numpy\n",
    "sampleArray = numpy.array([[11 ,22, 33], [44, 55, 66], [77, 88, 99]])\n",
    "Expected Output:\n",
    "\n",
    "Printing Input Array\n",
    "[[11 22 33]\n",
    " [44 55 66]\n",
    " [77 88 99]]\n",
    "\n",
    " Printing array of items in the third column from all rows\n",
    "[33 66 99]\n"
   ]
  },
  {
   "cell_type": "code",
   "execution_count": 64,
   "metadata": {},
   "outputs": [
    {
     "name": "stdout",
     "output_type": "stream",
     "text": [
      "[33 66 99]\n"
     ]
    }
   ],
   "source": [
    "import numpy as np\n",
    "sampleArray = np.array([[11 ,22, 33], [44, 55, 66], [77, 88, 99]])\n",
    "#print (sampleArray[0:3][3:])\n",
    "\n",
    "#Transposing the matrix\n",
    "newsampleArray = sampleArray.transpose()\n",
    "print (newsampleArray[2])\n"
   ]
  },
  {
   "cell_type": "raw",
   "metadata": {},
   "source": [
    "Exercise 3: Add the following two NumPy arrays and Modify a result array by calculating the square of each element\n",
    "import numpy\n",
    "\n",
    "arrayOne = numpy.array([[5, 6, 9], [21 ,18, 27]])\n",
    "arrayTwo = numpy.array([[15 ,33, 24], [4 ,7, 1]])\n",
    "Expected Output:\n",
    "\n",
    "addition of two arrays is \n",
    "\n",
    "[[20 39 33]\n",
    " [25 25 28]]\n",
    "\n",
    "Result array after calculating the square root of all elements\n",
    "\n",
    "[[ 400 1521 1089]\n",
    " [ 625  625  784]]\n"
   ]
  },
  {
   "cell_type": "code",
   "execution_count": 82,
   "metadata": {},
   "outputs": [
    {
     "name": "stdout",
     "output_type": "stream",
     "text": [
      "[[ 5  6  9]\n",
      " [21 18 27]]\n",
      "\n",
      "\n",
      "[[15 33 24]\n",
      " [ 4  7  1]]\n",
      "\n",
      "\n",
      "[[20 39 33]\n",
      " [25 25 28]]\n",
      "\n",
      "\n",
      "[[ 400 1521 1089]\n",
      " [ 625  625  784]]\n",
      "\n",
      "\n",
      "[[4.47213595 6.244998   5.74456265]\n",
      " [5.         5.         5.29150262]]\n"
     ]
    }
   ],
   "source": [
    "import numpy\n",
    "from math import sqrt\n",
    "\n",
    "arrayOne = numpy.array([[5, 6, 9], [21 ,18, 27]])\n",
    "arrayTwo = numpy.array([[15 ,33, 24], [4 ,7, 1]])\n",
    "print (arrayOne)\n",
    "print(\"\\n\")\n",
    "print (arrayTwo)\n",
    "print(\"\\n\")\n",
    "\n",
    "#Addition of the two arrays\n",
    "arrayThree = arrayOne + arrayTwo\n",
    "print (arrayThree)\n",
    "print(\"\\n\")\n",
    "print (arrayThree*arrayThree)\n",
    "print(\"\\n\")\n",
    "print (pow(arrayThree,1/2))"
   ]
  },
  {
   "cell_type": "code",
   "execution_count": null,
   "metadata": {},
   "outputs": [],
   "source": []
  }
 ],
 "metadata": {
  "kernelspec": {
   "display_name": "Python 3",
   "language": "python",
   "name": "python3"
  },
  "language_info": {
   "codemirror_mode": {
    "name": "ipython",
    "version": 3
   },
   "file_extension": ".py",
   "mimetype": "text/x-python",
   "name": "python",
   "nbconvert_exporter": "python",
   "pygments_lexer": "ipython3",
   "version": "3.7.6"
  }
 },
 "nbformat": 4,
 "nbformat_minor": 4
}
